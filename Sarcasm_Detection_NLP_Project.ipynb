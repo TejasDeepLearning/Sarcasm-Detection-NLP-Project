{
  "nbformat": 4,
  "nbformat_minor": 0,
  "metadata": {
    "colab": {
      "name": "Sarcasm Detection NLP Project.ipynb",
      "provenance": [],
      "collapsed_sections": [],
      "authorship_tag": "ABX9TyNxFEAarK6zBW5f8OETaYea",
      "include_colab_link": true
    },
    "kernelspec": {
      "name": "python3",
      "display_name": "Python 3"
    },
    "language_info": {
      "name": "python"
    }
  },
  "cells": [
    {
      "cell_type": "markdown",
      "metadata": {
        "id": "view-in-github",
        "colab_type": "text"
      },
      "source": [
        "<a href=\"https://colab.research.google.com/github/Tj-dev-py/Sarcasm-Detection-NLP-Project/blob/main/Sarcasm_Detection_NLP_Project.ipynb\" target=\"_parent\"><img src=\"https://colab.research.google.com/assets/colab-badge.svg\" alt=\"Open In Colab\"/></a>"
      ]
    },
    {
      "cell_type": "markdown",
      "metadata": {
        "id": "7oYDlVOSZ-P6"
      },
      "source": [
        "# Sarcasm Detection with NLP\n",
        "\n",
        "In this project, we will classify News Headlines based on whether they are sarcastic or not.\n",
        "\n",
        "We'll start by loading in some standard libraries/dependencies for working with the data, which can be found [here](https://www.kaggle.com/rmisra/news-headlines-dataset-for-sarcasm-detection)."
      ]
    },
    {
      "cell_type": "code",
      "metadata": {
        "id": "hSINnU-TZjmf"
      },
      "source": [
        "# import dependencies\n",
        "\n",
        "import numpy as np\n",
        "\n",
        "import json\n",
        "import tensorflow as tf\n",
        "\n",
        "from tensorflow.keras.preprocessing.text import Tokenizer\n",
        "from tensorflow.keras.preprocessing.sequence import pad_sequences"
      ],
      "execution_count": 39,
      "outputs": []
    },
    {
      "cell_type": "code",
      "metadata": {
        "colab": {
          "base_uri": "https://localhost:8080/"
        },
        "id": "8V-6IJ44HFSt",
        "outputId": "3a6794d7-89e3-4b82-a8b4-43c073b5b278"
      },
      "source": [
        "# download the json dataset\n",
        "!gdown --id 1xRU3xY5-tkiPGvlz5xBJ18_pHWSRzI4v"
      ],
      "execution_count": 40,
      "outputs": [
        {
          "output_type": "stream",
          "name": "stdout",
          "text": [
            "Downloading...\n",
            "From: https://drive.google.com/uc?id=1xRU3xY5-tkiPGvlz5xBJ18_pHWSRzI4v\n",
            "To: /content/sarcasm.json\n",
            "\r  0% 0.00/5.64M [00:00<?, ?B/s]\r100% 5.64M/5.64M [00:00<00:00, 55.8MB/s]\n"
          ]
        }
      ]
    },
    {
      "cell_type": "code",
      "metadata": {
        "id": "lt8oNS47HJgU"
      },
      "source": [
        "# set the parameters here for easy access\n",
        "\n",
        "vocab_size = 1500\n",
        "embedding_dim = 16\n",
        "max_length = 120\n",
        "trunc_type='post'\n",
        "padding_type='post'\n",
        "oov_tok = \"<OOV>\"\n",
        "training_size = 20000"
      ],
      "execution_count": 41,
      "outputs": []
    },
    {
      "cell_type": "code",
      "metadata": {
        "id": "bBcXomzsHXl4"
      },
      "source": [
        "# reading in the json file\n",
        "with open(\"./sarcasm.json\", 'r') as f:\n",
        "    datastore = json.load(f)"
      ],
      "execution_count": 42,
      "outputs": []
    },
    {
      "cell_type": "code",
      "metadata": {
        "id": "DuMpOvtDHYiN"
      },
      "source": [
        "# append the items to seperate lists\n",
        "sentences = []\n",
        "labels = []\n",
        "urls = []\n",
        "for item in datastore:\n",
        "    sentences.append(item['headline'])\n",
        "    labels.append(item['is_sarcastic'])"
      ],
      "execution_count": 43,
      "outputs": []
    },
    {
      "cell_type": "code",
      "metadata": {
        "id": "_spY0TwVHamT"
      },
      "source": [
        "# spliting into train and test sets\n",
        "training_sentences = sentences[0:training_size]\n",
        "testing_sentences = sentences[training_size:]\n",
        "training_labels = labels[0:training_size]\n",
        "testing_labels = labels[training_size:]"
      ],
      "execution_count": 44,
      "outputs": []
    },
    {
      "cell_type": "code",
      "metadata": {
        "colab": {
          "base_uri": "https://localhost:8080/"
        },
        "id": "3-Qj7konHdc5",
        "outputId": "a575db12-1b6e-4bcc-e140-5ad580d38186"
      },
      "source": [
        "# an example\n",
        "training_sentences[1], training_labels[1]"
      ],
      "execution_count": 48,
      "outputs": [
        {
          "output_type": "execute_result",
          "data": {
            "text/plain": [
              "(\"the 'roseanne' revival catches up to our thorny political mood, for better and worse\",\n",
              " 0)"
            ]
          },
          "metadata": {},
          "execution_count": 48
        }
      ]
    },
    {
      "cell_type": "code",
      "metadata": {
        "colab": {
          "base_uri": "https://localhost:8080/"
        },
        "id": "aJVyg1y5IAzV",
        "outputId": "57083526-0062-4a48-a849-f92ad91c58d2"
      },
      "source": [
        "test_sentences[1], test_labels[1]"
      ],
      "execution_count": 49,
      "outputs": [
        {
          "output_type": "execute_result",
          "data": {
            "text/plain": [
              "(\"When I couldn't find hand sanitizer at Fred Meyer, I turned to #Amazon. But $114.97 for a 2 pack of Purell??!!Check out how  #coronavirus concerns are driving up prices. https://t.co/ygbipBflMY\",\n",
              " 4)"
            ]
          },
          "metadata": {},
          "execution_count": 49
        }
      ]
    },
    {
      "cell_type": "code",
      "metadata": {
        "id": "cDE1h57EILL8"
      },
      "source": [
        "# create the tokenizer and fit it on the train sentences\n",
        "tokenizer = Tokenizer(num_words=vocab_size, oov_token=oov_tok)\n",
        "tokenizer.fit_on_texts(training_sentences)"
      ],
      "execution_count": 50,
      "outputs": []
    },
    {
      "cell_type": "code",
      "metadata": {
        "id": "FkdyQqEFIQVV"
      },
      "source": [
        "word_index = tokenizer.word_index"
      ],
      "execution_count": 51,
      "outputs": []
    },
    {
      "cell_type": "code",
      "metadata": {
        "id": "toRuU1UsISNT"
      },
      "source": [
        "# seperating the sentences into sequences and padding them\n",
        "training_sequences = tokenizer.texts_to_sequences(training_sentences)\n",
        "training_padded = pad_sequences(training_sequences, maxlen=max_length, padding=padding_type,\n",
        "                                truncating=trunc_type)"
      ],
      "execution_count": 52,
      "outputs": []
    },
    {
      "cell_type": "code",
      "metadata": {
        "id": "ttxnBQLKIVKf"
      },
      "source": [
        "testing_sequences = tokenizer.texts_to_sequences(testing_sentences)\n",
        "testing_padded = pad_sequences(testing_sequences, maxlen=max_length, padding=padding_type, truncating=trunc_type)"
      ],
      "execution_count": 53,
      "outputs": []
    },
    {
      "cell_type": "code",
      "metadata": {
        "colab": {
          "base_uri": "https://localhost:8080/"
        },
        "id": "fg6OgSSDIXj6",
        "outputId": "773af275-4251-403f-d16e-fb0e63c19c19"
      },
      "source": [
        "# creating the model with a Bi-LSTM layer\n",
        "model = tf.keras.Sequential([\n",
        "    tf.keras.layers.Embedding(vocab_size, embedding_dim, input_length=max_length),\n",
        "    tf.keras.layers.Bidirectional(keras.layers.LSTM(32)),\n",
        "    tf.keras.layers.Dense(24, activation='relu', kernel_regularizer=tf.keras.regularizers.L1(0.01)),\n",
        "    tf.keras.layers.Dropout(.3),\n",
        "    tf.keras.layers.Dense(1, activation='sigmoid')\n",
        "])\n",
        "\n",
        "model.compile(loss='binary_crossentropy',optimizer='adam',metrics=['accuracy'])\n",
        "\n",
        "callbacks = tf.keras.callbacks.EarlyStopping(\n",
        "    monitor=\"val_loss\",\n",
        "    min_delta=.1,\n",
        "    patience=5,\n",
        "    mode=\"auto\",\n",
        "    baseline=None,\n",
        "    restore_best_weights=True\n",
        ")\n",
        "\n",
        "model.summary()\n"
      ],
      "execution_count": 57,
      "outputs": [
        {
          "output_type": "stream",
          "name": "stdout",
          "text": [
            "Model: \"sequential_4\"\n",
            "_________________________________________________________________\n",
            "Layer (type)                 Output Shape              Param #   \n",
            "=================================================================\n",
            "embedding_4 (Embedding)      (None, 120, 16)           24000     \n",
            "_________________________________________________________________\n",
            "bidirectional_4 (Bidirection (None, 64)                12544     \n",
            "_________________________________________________________________\n",
            "dense_8 (Dense)              (None, 24)                1560      \n",
            "_________________________________________________________________\n",
            "dropout_2 (Dropout)          (None, 24)                0         \n",
            "_________________________________________________________________\n",
            "dense_9 (Dense)              (None, 1)                 25        \n",
            "=================================================================\n",
            "Total params: 38,129\n",
            "Trainable params: 38,129\n",
            "Non-trainable params: 0\n",
            "_________________________________________________________________\n"
          ]
        }
      ]
    },
    {
      "cell_type": "code",
      "metadata": {
        "id": "_HOaRuyAJOae"
      },
      "source": [
        "# converting the padded sequences into arrays\n",
        "num_epochs = 10\n",
        "\n",
        "training_padded = np.array(training_padded)\n",
        "training_labels = np.array(training_labels)\n",
        "testing_padded = np.array(testing_padded)\n",
        "testing_labels = np.array(testing_labels)\n"
      ],
      "execution_count": 59,
      "outputs": []
    },
    {
      "cell_type": "code",
      "metadata": {
        "colab": {
          "base_uri": "https://localhost:8080/"
        },
        "id": "JlNLjB06JUEU",
        "outputId": "cc525a6e-9b92-4daa-f50d-aafb35769551"
      },
      "source": [
        "# training the model\n",
        "history = model.fit(training_padded, training_labels, epochs=num_epochs, \n",
        "                    validation_data=(testing_padded, testing_labels), verbose=1,\n",
        "                    callbacks=[callbacks])"
      ],
      "execution_count": 60,
      "outputs": [
        {
          "output_type": "stream",
          "name": "stdout",
          "text": [
            "Epoch 1/10\n",
            "625/625 [==============================] - 42s 67ms/step - loss: 0.2905 - accuracy: 0.9028 - val_loss: 0.4271 - val_accuracy: 0.8350\n",
            "Epoch 2/10\n",
            "625/625 [==============================] - 42s 67ms/step - loss: 0.2837 - accuracy: 0.9064 - val_loss: 0.4379 - val_accuracy: 0.8347\n",
            "Epoch 3/10\n",
            "625/625 [==============================] - 42s 67ms/step - loss: 0.2689 - accuracy: 0.9136 - val_loss: 0.4556 - val_accuracy: 0.8363\n",
            "Epoch 4/10\n",
            "625/625 [==============================] - 42s 67ms/step - loss: 0.2601 - accuracy: 0.9167 - val_loss: 0.4615 - val_accuracy: 0.8357\n",
            "Epoch 5/10\n",
            "625/625 [==============================] - 42s 67ms/step - loss: 0.2482 - accuracy: 0.9238 - val_loss: 0.4526 - val_accuracy: 0.8295\n",
            "Epoch 6/10\n",
            "625/625 [==============================] - 42s 67ms/step - loss: 0.2371 - accuracy: 0.9270 - val_loss: 0.4861 - val_accuracy: 0.8298\n",
            "Epoch 7/10\n",
            "625/625 [==============================] - 42s 67ms/step - loss: 0.2254 - accuracy: 0.9305 - val_loss: 0.5062 - val_accuracy: 0.8322\n",
            "Epoch 8/10\n",
            "625/625 [==============================] - 42s 67ms/step - loss: 0.2145 - accuracy: 0.9363 - val_loss: 0.5050 - val_accuracy: 0.8323\n",
            "Epoch 9/10\n",
            "625/625 [==============================] - 42s 67ms/step - loss: 0.2128 - accuracy: 0.9385 - val_loss: 0.5073 - val_accuracy: 0.8292\n",
            "Epoch 10/10\n",
            "625/625 [==============================] - 42s 67ms/step - loss: 0.2033 - accuracy: 0.9418 - val_loss: 0.5383 - val_accuracy: 0.8299\n"
          ]
        }
      ]
    },
    {
      "cell_type": "code",
      "metadata": {
        "colab": {
          "base_uri": "https://localhost:8080/",
          "height": 542
        },
        "id": "WZzeTMtLRace",
        "outputId": "c845fd9c-cd1b-4e1c-897f-9f584299019b"
      },
      "source": [
        "# plot the results of the model\n",
        "\n",
        "import matplotlib.pyplot as plt\n",
        "\n",
        "def plot_graphs(history, string):\n",
        "  plt.plot(history.history[string])\n",
        "  plt.plot(history.history['val_'+string])\n",
        "  plt.xlabel(\"Epochs\")\n",
        "  plt.ylabel(string)\n",
        "  plt.legend([string, 'val_'+string])\n",
        "  plt.show()\n",
        "\n",
        "plot_graphs(history, 'accuracy')\n",
        "plot_graphs(history, 'loss')"
      ],
      "execution_count": 61,
      "outputs": [
        {
          "output_type": "display_data",
          "data": {
            "image/png": "[encoded data removed]",
            "text/plain": [
              "<Figure size 432x288 with 1 Axes>"
            ]
          },
          "metadata": {
            "needs_background": "light"
          }
        },
        {
          "output_type": "display_data",
          "data": {
            "image/png": "[encoded data removed]",
            "text/plain": [
              "<Figure size 432x288 with 1 Axes>"
            ]
          },
          "metadata": {
            "needs_background": "light"
          }
        }
      ]
    },
    {
      "cell_type": "code",
      "metadata": {
        "id": "gv1eFJ-FRauO"
      },
      "source": [
        ""
      ],
      "execution_count": null,
      "outputs": []
    }
  ]
}